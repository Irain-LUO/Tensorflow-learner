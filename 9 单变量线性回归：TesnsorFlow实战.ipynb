{
 "cells": [
  {
   "cell_type": "markdown",
   "metadata": {},
   "source": [
    "# 1准备数据"
   ]
  },
  {
   "cell_type": "code",
   "execution_count": 1,
   "metadata": {},
   "outputs": [],
   "source": [
    "#在Jupyter中，使用matplotlib显示图像需要设置为 inline 模式，否则不会现实图像\n",
    "%matplotlib inline\n",
    "import matplotlib.pyplot as plt # 载入matplotlib\n",
    "import numpy as np # 载入numpy\n",
    "import tensorflow as tf # 载入Tensorflow\n",
    "# https://numpy.org/doc/1.18/reference/random/generated/numpy.random.seed.html?highlight=seed\n",
    "np.random.seed(5) # 设定随机种子"
   ]
  },
  {
   "cell_type": "code",
   "execution_count": 2,
   "metadata": {},
   "outputs": [],
   "source": [
    "#直接采用np生成等差数列的方法，生成100个点，每个点的取值在-1~1之间\n",
    "# https://numpy.org/doc/1.18/reference/generated/numpy.linspace.html\n",
    "x_data = np.linspace(-1, 1, 100) "
   ]
  },
  {
   "cell_type": "code",
   "execution_count": 3,
   "metadata": {},
   "outputs": [
    {
     "data": {
      "text/plain": [
       "array([-8.23509005e-01, -1.09194402e+00,  5.31165556e-02, -9.79624731e-01,\n",
       "       -7.94539902e-01, -1.64987351e-01, -1.12126872e+00, -9.53826380e-01,\n",
       "       -6.01726386e-01, -7.68311619e-01, -1.07306544e+00, -6.37506160e-01,\n",
       "       -6.58683094e-01, -2.33358834e-01, -1.10025885e+00, -6.74011009e-01,\n",
       "        1.07021050e-01,  4.29801090e-01, -8.77199096e-01,  2.56157720e-02,\n",
       "       -5.84162346e-01, -4.94256413e-01, -4.59862784e-01, -2.39710242e-01,\n",
       "        3.68272900e-01,  2.95069518e-01,  7.41627478e-02, -5.44152605e-02,\n",
       "        1.32628668e-01,  1.29344995e-01,  5.29342540e-01, -1.03399392e-04,\n",
       "        2.90451330e-01,  2.92906289e-01,  3.52814113e-01,  5.13828478e-01,\n",
       "        5.33609491e-01,  1.02888892e+00,  5.00603293e-01,  1.20037049e+00,\n",
       "        4.93820408e-01,  4.65473090e-01,  7.37264972e-01,  8.79549126e-01,\n",
       "        8.85622740e-01,  1.33496717e+00,  1.31432305e+00,  1.09676606e+00,\n",
       "        8.04859436e-01,  9.39552241e-01,  1.58556123e+00,  1.14910771e+00,\n",
       "        5.76700848e-01,  8.65588049e-01,  9.50812889e-01,  1.68310413e+00,\n",
       "        1.21976067e+00,  2.20707301e+00,  1.60608213e+00,  1.43376111e+00,\n",
       "        1.24996086e+00,  1.85351819e+00,  1.40876605e+00,  1.21580516e+00,\n",
       "        1.81311167e+00,  1.63136595e+00,  2.14229096e+00,  1.67763338e+00,\n",
       "        6.03599561e-01,  2.10362535e+00,  1.07718647e+00,  2.48418933e+00,\n",
       "        2.63763680e+00,  1.77868240e+00,  1.52401823e+00,  1.47147342e+00,\n",
       "        2.41976892e+00,  2.03026384e+00,  1.91217118e+00,  2.09455131e+00,\n",
       "        3.06772911e+00,  2.41149500e+00,  2.61142209e+00,  2.66429839e+00,\n",
       "        2.80130785e+00,  2.85888401e+00,  2.19056090e+00,  2.42907639e+00,\n",
       "        2.25125143e+00,  2.31149430e+00,  3.09296673e+00,  2.47606546e+00,\n",
       "        2.68551117e+00,  2.48044522e+00,  2.56061869e+00,  3.15367902e+00,\n",
       "        2.70061588e+00,  2.72634384e+00,  3.15701902e+00,  3.20019493e+00])"
      ]
     },
     "execution_count": 3,
     "metadata": {},
     "output_type": "execute_result"
    }
   ],
   "source": [
    "# y = 2x +1 + 噪声， 其中，噪声的维度与x_data一致\n",
    "# https://numpy.org/doc/1.18/reference/random/generated/numpy.random.randn.html?highlight=randn#numpy-random-randn\n",
    "y_data = 2 * x_data + 1.0 + np.random.randn(*x_data.shape) * 0.4  \n",
    "y_data"
   ]
  },
  {
   "cell_type": "code",
   "execution_count": 4,
   "metadata": {},
   "outputs": [
    {
     "data": {
      "text/plain": [
       "[<matplotlib.lines.Line2D at 0x1d92ac390b8>]"
      ]
     },
     "execution_count": 4,
     "metadata": {},
     "output_type": "execute_result"
    },
    {
     "data": {
      "image/png": "[encoded data removed]",
      "text/plain": [
       "<Figure size 432x288 with 1 Axes>"
      ]
     },
     "metadata": {
      "needs_background": "light"
     },
     "output_type": "display_data"
    }
   ],
   "source": [
    "#画出随机生成数据的散点图\n",
    "plt.scatter(x_data, y_data) \n",
    "# 画出我们想要学习到的线性函数 y = 2x +1\n",
    "plt.plot (x_data, 2 * x_data + 1.0, color = 'red',linewidth=3) "
   ]
  },
  {
   "cell_type": "markdown",
   "metadata": {},
   "source": [
    "# 2 构建模型"
   ]
  },
  {
   "cell_type": "code",
   "execution_count": 5,
   "metadata": {},
   "outputs": [],
   "source": [
    "# 定义训练数据的占位符，x是特征值，y是标签值\n",
    "# https://tensorflow.google.cn/api_docs/python/tf/compat/v1/disable_eager_execution?hl=en\n",
    "tf.compat.v1.disable_eager_execution()\n",
    "# https://tensorflow.google.cn/api_docs/python/tf/compat/v1/placeholder?hl=en\n",
    "x = tf.compat.v1.placeholder(\"float\", name = \"x\") # tf.placeholder() is not compatible with eager execution.\n",
    "y = tf.compat.v1.placeholder(\"float\", name = \"y\")"
   ]
  },
  {
   "cell_type": "code",
   "execution_count": 6,
   "metadata": {},
   "outputs": [],
   "source": [
    "def model(x, w, b):\n",
    "    return tf.multiply(x, w) + b "
   ]
  },
  {
   "cell_type": "code",
   "execution_count": 7,
   "metadata": {},
   "outputs": [
    {
     "name": "stdout",
     "output_type": "stream",
     "text": [
      "WARNING:tensorflow:From e:\\working\\python37-64\\lib\\site-packages\\tensorflow_core\\python\\ops\\resource_variable_ops.py:1635: calling BaseResourceVariable.__init__ (from tensorflow.python.ops.resource_variable_ops) with constraint is deprecated and will be removed in a future version.\n",
      "Instructions for updating:\n",
      "If using Keras pass *_constraint arguments to layers.\n"
     ]
    }
   ],
   "source": [
    "# 构建线性函数的斜率，变量w\n",
    "w = tf.Variable(1.0, name=\"w0\")\n",
    "# 构建线性函数的截距，变量b\n",
    "b = tf.Variable(0.0, name=\"b0\")   \n",
    "# pred是预测值，前向计算\n",
    "pred = model(x, w, b) "
   ]
  },
  {
   "cell_type": "code",
   "execution_count": 8,
   "metadata": {},
   "outputs": [],
   "source": [
    "# 迭代次数（训练轮数）\n",
    "train_epochs = 10\n",
    "# 学习率\n",
    "learning_rate = 0.05 \n",
    "# 控制显示loss值的粒度\n",
    "display_step = 10"
   ]
  },
  {
   "cell_type": "code",
   "execution_count": 9,
   "metadata": {},
   "outputs": [],
   "source": [
    "# 采用均方差作为损失函数\n",
    "loss_function = tf.reduce_mean(tf.square(y-pred))  \n",
    "# 梯度下降优化器\n",
    "# https://tensorflow.google.cn/api_docs/python/tf/compat/v1/train/GradientDescentOptimizer?hl=en\n",
    "optimizer = tf.compat.v1.train.GradientDescentOptimizer(learning_rate).minimize(loss_function)"
   ]
  },
  {
   "cell_type": "code",
   "execution_count": 10,
   "metadata": {},
   "outputs": [],
   "source": [
    "sess = tf.compat.v1.Session()\n",
    "init = tf.compat.v1.global_variables_initializer()\n",
    "sess.run(init)"
   ]
  },
  {
   "cell_type": "markdown",
   "metadata": {},
   "source": [
    "# 3 训练模型"
   ]
  },
  {
   "cell_type": "code",
   "execution_count": 11,
   "metadata": {},
   "outputs": [
    {
     "name": "stdout",
     "output_type": "stream",
     "text": [
      "Train Epoch: 01 Step: 010 loss= 0.007021904\n",
      "Train Epoch: 01 Step: 020 loss= 0.186607897\n",
      "Train Epoch: 01 Step: 030 loss= 0.024833022\n",
      "Train Epoch: 01 Step: 040 loss= 0.620799541\n",
      "Train Epoch: 01 Step: 050 loss= 0.006301077\n",
      "Train Epoch: 01 Step: 060 loss= 0.023637433\n",
      "Train Epoch: 01 Step: 070 loss= 0.354419798\n",
      "Train Epoch: 01 Step: 080 loss= 0.027936857\n",
      "Train Epoch: 01 Step: 090 loss= 0.029015331\n",
      "Train Epoch: 01 Step: 100 loss= 0.106556907\n",
      "Train Epoch: 02 Step: 110 loss= 0.179423183\n",
      "Train Epoch: 02 Step: 120 loss= 0.067458346\n",
      "Train Epoch: 02 Step: 130 loss= 0.000281519\n",
      "Train Epoch: 02 Step: 140 loss= 0.344065875\n",
      "Train Epoch: 02 Step: 150 loss= 0.021391280\n",
      "Train Epoch: 02 Step: 160 loss= 0.006406436\n",
      "Train Epoch: 02 Step: 170 loss= 0.142010629\n",
      "Train Epoch: 02 Step: 180 loss= 0.000233675\n",
      "Train Epoch: 02 Step: 190 loss= 0.094913408\n",
      "Train Epoch: 02 Step: 200 loss= 0.052370854\n",
      "Train Epoch: 03 Step: 210 loss= 0.044097763\n",
      "Train Epoch: 03 Step: 220 loss= 0.082669340\n",
      "Train Epoch: 03 Step: 230 loss= 0.000454877\n",
      "Train Epoch: 03 Step: 240 loss= 0.327929199\n",
      "Train Epoch: 03 Step: 250 loss= 0.026971471\n",
      "Train Epoch: 03 Step: 260 loss= 0.009875795\n",
      "Train Epoch: 03 Step: 270 loss= 0.128553197\n",
      "Train Epoch: 03 Step: 280 loss= 0.000938686\n",
      "Train Epoch: 03 Step: 290 loss= 0.102202758\n",
      "Train Epoch: 03 Step: 300 loss= 0.048671149\n",
      "Train Epoch: 04 Step: 310 loss= 0.036854628\n",
      "Train Epoch: 04 Step: 320 loss= 0.084023297\n",
      "Train Epoch: 04 Step: 330 loss= 0.000471393\n",
      "Train Epoch: 04 Step: 340 loss= 0.326585472\n",
      "Train Epoch: 04 Step: 350 loss= 0.027471786\n",
      "Train Epoch: 04 Step: 360 loss= 0.010202700\n",
      "Train Epoch: 04 Step: 370 loss= 0.127448648\n",
      "Train Epoch: 04 Step: 380 loss= 0.001019721\n",
      "Train Epoch: 04 Step: 390 loss= 0.102829941\n",
      "Train Epoch: 04 Step: 400 loss= 0.048365295\n",
      "Train Epoch: 05 Step: 410 loss= 0.036273275\n",
      "Train Epoch: 05 Step: 420 loss= 0.084138028\n",
      "Train Epoch: 05 Step: 430 loss= 0.000472802\n",
      "Train Epoch: 05 Step: 440 loss= 0.326472342\n",
      "Train Epoch: 05 Step: 450 loss= 0.027514204\n",
      "Train Epoch: 05 Step: 460 loss= 0.010230534\n",
      "Train Epoch: 05 Step: 470 loss= 0.127355635\n",
      "Train Epoch: 05 Step: 480 loss= 0.001026707\n",
      "Train Epoch: 05 Step: 490 loss= 0.102882855\n",
      "Train Epoch: 05 Step: 500 loss= 0.048339501\n",
      "Train Epoch: 06 Step: 510 loss= 0.036224432\n",
      "Train Epoch: 06 Step: 520 loss= 0.084147744\n",
      "Train Epoch: 06 Step: 530 loss= 0.000472908\n",
      "Train Epoch: 06 Step: 540 loss= 0.326462865\n",
      "Train Epoch: 06 Step: 550 loss= 0.027517686\n",
      "Train Epoch: 06 Step: 560 loss= 0.010232801\n",
      "Train Epoch: 06 Step: 570 loss= 0.127347812\n",
      "Train Epoch: 06 Step: 580 loss= 0.001027287\n",
      "Train Epoch: 06 Step: 590 loss= 0.102887444\n",
      "Train Epoch: 06 Step: 600 loss= 0.048337404\n",
      "Train Epoch: 07 Step: 610 loss= 0.036220346\n",
      "Train Epoch: 07 Step: 620 loss= 0.084148541\n",
      "Train Epoch: 07 Step: 630 loss= 0.000472921\n",
      "Train Epoch: 07 Step: 640 loss= 0.326461911\n",
      "Train Epoch: 07 Step: 650 loss= 0.027518081\n",
      "Train Epoch: 07 Step: 660 loss= 0.010233018\n",
      "Train Epoch: 07 Step: 670 loss= 0.127347127\n",
      "Train Epoch: 07 Step: 680 loss= 0.001027349\n",
      "Train Epoch: 07 Step: 690 loss= 0.102887906\n",
      "Train Epoch: 07 Step: 700 loss= 0.048337195\n",
      "Train Epoch: 08 Step: 710 loss= 0.036220029\n",
      "Train Epoch: 08 Step: 720 loss= 0.084148541\n",
      "Train Epoch: 08 Step: 730 loss= 0.000472929\n",
      "Train Epoch: 08 Step: 740 loss= 0.326461911\n",
      "Train Epoch: 08 Step: 750 loss= 0.027518081\n",
      "Train Epoch: 08 Step: 760 loss= 0.010233042\n",
      "Train Epoch: 08 Step: 770 loss= 0.127347127\n",
      "Train Epoch: 08 Step: 780 loss= 0.001027349\n",
      "Train Epoch: 08 Step: 790 loss= 0.102888055\n",
      "Train Epoch: 08 Step: 800 loss= 0.048337195\n",
      "Train Epoch: 09 Step: 810 loss= 0.036219940\n",
      "Train Epoch: 09 Step: 820 loss= 0.084148541\n",
      "Train Epoch: 09 Step: 830 loss= 0.000472929\n",
      "Train Epoch: 09 Step: 840 loss= 0.326461911\n",
      "Train Epoch: 09 Step: 850 loss= 0.027518081\n",
      "Train Epoch: 09 Step: 860 loss= 0.010233042\n",
      "Train Epoch: 09 Step: 870 loss= 0.127347127\n",
      "Train Epoch: 09 Step: 880 loss= 0.001027349\n",
      "Train Epoch: 09 Step: 890 loss= 0.102888055\n",
      "Train Epoch: 09 Step: 900 loss= 0.048337195\n",
      "Train Epoch: 10 Step: 910 loss= 0.036219940\n",
      "Train Epoch: 10 Step: 920 loss= 0.084148541\n",
      "Train Epoch: 10 Step: 930 loss= 0.000472929\n",
      "Train Epoch: 10 Step: 940 loss= 0.326461911\n",
      "Train Epoch: 10 Step: 950 loss= 0.027518081\n",
      "Train Epoch: 10 Step: 960 loss= 0.010233042\n",
      "Train Epoch: 10 Step: 970 loss= 0.127347127\n",
      "Train Epoch: 10 Step: 980 loss= 0.001027349\n",
      "Train Epoch: 10 Step: 990 loss= 0.102888055\n",
      "Train Epoch: 10 Step: 1000 loss= 0.048337195\n"
     ]
    },
    {
     "data": {
      "text/plain": [
       "<matplotlib.collections.PathCollection at 0x1d93b947f28>"
      ]
     },
     "execution_count": 11,
     "metadata": {},
     "output_type": "execute_result"
    },
    {
     "data": {
      "image/png": "[encoded data removed]",
      "text/plain": [
       "<Figure size 432x288 with 1 Axes>"
      ]
     },
     "metadata": {
      "needs_background": "light"
     },
     "output_type": "display_data"
    }
   ],
   "source": [
    "# 开始训练，轮数为 epoch，采用SGD随机梯度下降优化方法\n",
    "step = 0   # 记录训练步数\n",
    "loss_list = []   # 用于保存loss值的列表\n",
    "for epoch in range(train_epochs):\n",
    "    for xs,ys in zip(x_data, y_data):\n",
    "        _, loss=sess.run([optimizer,loss_function], feed_dict={x: xs, y: ys}) \n",
    "         # 显示损失值 loss\n",
    "        # display_step：控制报告的粒度\n",
    "        # 例如，如果 display_step 设为 2 ，则将每训练2个样本输出一次损失值\n",
    "        # 与超参数不同，修改 display_step 不会更改模型所学习的规律\n",
    "        loss_list.append(loss)\n",
    "        step=step+1\n",
    "        if step % display_step == 0:\n",
    "            print(\"Train Epoch:\", '%02d' % (epoch+1), \"Step: %03d\" % (step),\"loss=\", \\\n",
    "                  \"{:.9f}\".format(loss))\n",
    "                \n",
    "    b0temp=b.eval(session=sess)\n",
    "    w0temp=w.eval(session=sess)\n",
    "    plt.plot (x_data, w0temp * x_data + b0temp  )# 画图\n",
    "plt.scatter(x_data, y_data)"
   ]
  },
  {
   "cell_type": "code",
   "execution_count": 12,
   "metadata": {},
   "outputs": [
    {
     "data": {
      "text/plain": [
       "(1.0420128, 1.9822965)"
      ]
     },
     "execution_count": 12,
     "metadata": {},
     "output_type": "execute_result"
    }
   ],
   "source": [
    "b0temp,w0temp"
   ]
  },
  {
   "cell_type": "markdown",
   "metadata": {},
   "source": [
    "# 4  进行预测"
   ]
  },
  {
   "cell_type": "code",
   "execution_count": 13,
   "metadata": {},
   "outputs": [
    {
     "name": "stdout",
     "output_type": "stream",
     "text": [
      "预测值：3.024309\n",
      "目标值：3.000000\n"
     ]
    }
   ],
   "source": [
    "x_test = 1\n",
    "predict = sess.run(pred, feed_dict={x: x_test})\n",
    "print(\"预测值：%f\" % predict)\n",
    "target = 2 * x_test + 1.0\n",
    "print(\"目标值：%f\" % target)"
   ]
  },
  {
   "cell_type": "markdown",
   "metadata": {},
   "source": [
    "# 5 TensorBoard可视化"
   ]
  },
  {
   "cell_type": "code",
   "execution_count": 14,
   "metadata": {},
   "outputs": [],
   "source": [
    "logdir = './log'\n",
    "#生成- - 个写日志的writer,并将当前的TensorFlow计算图写入日志。\n",
    "# https://tensorflow.google.cn/api_docs/python/tf/compat/v1/summary/FileWriter?hl=en\n",
    "writer = tf.compat.v1.summary.FileWriter(logdir, tf.compat.v1.get_default_graph())\n",
    "writer.close()\n"
   ]
  }
 ],
 "metadata": {
  "kernelspec": {
   "display_name": "Python 3",
   "language": "python",
   "name": "python3"
  },
  "language_info": {
   "codemirror_mode": {
    "name": "ipython",
    "version": 3
   },
   "file_extension": ".py",
   "mimetype": "text/x-python",
   "name": "python",
   "nbconvert_exporter": "python",
   "pygments_lexer": "ipython3",
   "version": "3.7.2"
  }
 },
 "nbformat": 4,
 "nbformat_minor": 4
}
